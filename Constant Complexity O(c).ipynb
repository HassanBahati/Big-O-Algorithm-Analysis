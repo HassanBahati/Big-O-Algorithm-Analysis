{
 "cells": [
  {
   "cell_type": "markdown",
   "id": "548a4d30",
   "metadata": {},
   "source": [
    "Steps required to complete execution of an algorithm remain constant irrespective of the number of inputs to the algorithm.\n"
   ]
  },
  {
   "cell_type": "markdown",
   "id": "6da6545a",
   "metadata": {},
   "source": [
    "#### Example with finding the square of the first item in a list\n"
   ]
  },
  {
   "cell_type": "code",
   "execution_count": 14,
   "id": "f74893d0",
   "metadata": {},
   "outputs": [],
   "source": [
    "def constant_algorithm(items):\n",
    "    result = items[0] * items[0]\n",
    "    return result\n"
   ]
  },
  {
   "cell_type": "code",
   "execution_count": 15,
   "id": "d2d7d48d",
   "metadata": {},
   "outputs": [
    {
     "data": {
      "text/plain": [
       "4"
      ]
     },
     "execution_count": 15,
     "metadata": {},
     "output_type": "execute_result"
    }
   ],
   "source": [
    "constant_algorithm([2,3,4,6])"
   ]
  },
  {
   "cell_type": "markdown",
   "id": "7a48ef3a",
   "metadata": {},
   "source": [
    "#### The algorithm only performs 2 steps, computing the square and returning the result irrespective of the size of array."
   ]
  },
  {
   "cell_type": "code",
   "execution_count": 16,
   "id": "99f1b14d",
   "metadata": {},
   "outputs": [
    {
     "data": {
      "image/png": "[encoded data removed]",
      "text/plain": [
       "<Figure size 432x288 with 1 Axes>"
      ]
     },
     "metadata": {
      "needs_background": "light"
     },
     "output_type": "display_data"
    }
   ],
   "source": [
    "import matplotlib.pyplot as plt\n",
    "import numpy as np\n",
    "\n",
    "x = [2, 4, 6, 8, 10, 12]\n",
    "\n",
    "y = [2, 2, 2, 2, 2, 2]\n",
    "\n",
    "plt.plot(x, y, 'b')\n",
    "plt.xlabel('Inputs')\n",
    "plt.ylabel('Steps')\n",
    "plt.title('Constant Complexity')\n",
    "plt.show()"
   ]
  },
  {
   "cell_type": "code",
   "execution_count": null,
   "id": "467ea76b",
   "metadata": {},
   "outputs": [],
   "source": []
  }
 ],
 "metadata": {
  "kernelspec": {
   "display_name": "Python 3",
   "language": "python",
   "name": "python3"
  },
  "language_info": {
   "codemirror_mode": {
    "name": "ipython",
    "version": 3
   },
   "file_extension": ".py",
   "mimetype": "text/x-python",
   "name": "python",
   "nbconvert_exporter": "python",
   "pygments_lexer": "ipython3",
   "version": "3.8.8"
  }
 },
 "nbformat": 4,
 "nbformat_minor": 5
}
