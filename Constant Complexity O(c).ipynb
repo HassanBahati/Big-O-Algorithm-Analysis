{
 "cells": [
  {
   "cell_type": "markdown",
   "id": "2c3af1c2",
   "metadata": {},
   "source": [
    "Steps required to complete execution of an algorithm remain constant irrespective of the number of inputs to the algorithm.\n"
   ]
  },
  {
   "cell_type": "markdown",
   "id": "ec43cdaa",
   "metadata": {},
   "source": [
    "#### Example with finding the square of the first item in a list\n"
   ]
  },
  {
   "cell_type": "code",
   "execution_count": null,
   "id": "57457d0f",
   "metadata": {},
   "outputs": [],
   "source": [
    "def constant_alogorithm(items):\n",
    "    result = item[0] * items[0]\n",
    "    return result"
   ]
  }
 ],
 "metadata": {
  "kernelspec": {
   "display_name": "Python 3",
   "language": "python",
   "name": "python3"
  },
  "language_info": {
   "codemirror_mode": {
    "name": "ipython",
    "version": 3
   },
   "file_extension": ".py",
   "mimetype": "text/x-python",
   "name": "python",
   "nbconvert_exporter": "python",
   "pygments_lexer": "ipython3",
   "version": "3.8.8"
  }
 },
 "nbformat": 4,
 "nbformat_minor": 5
}
