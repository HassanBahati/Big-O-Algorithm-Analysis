{
 "cells": [
  {
   "cell_type": "markdown",
   "id": "3a6231e4",
   "metadata": {},
   "source": [
    "# Big O Notation"
   ]
  },
  {
   "cell_type": "markdown",
   "id": "d34f89b7",
   "metadata": {},
   "source": [
    "1. A Statistical measure of describing complexity of an algorithm.\n",
    "2. A Metrics for finding the complexity of an algorithm.\n",
    "3. Shows relationship bet"
   ]
  }
 ],
 "metadata": {
  "kernelspec": {
   "display_name": "Python 3",
   "language": "python",
   "name": "python3"
  },
  "language_info": {
   "codemirror_mode": {
    "name": "ipython",
    "version": 3
   },
   "file_extension": ".py",
   "mimetype": "text/x-python",
   "name": "python",
   "nbconvert_exporter": "python",
   "pygments_lexer": "ipython3",
   "version": "3.8.8"
  }
 },
 "nbformat": 4,
 "nbformat_minor": 5
}
