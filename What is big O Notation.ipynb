{
 "cells": [
  {
   "cell_type": "markdown",
   "id": "5e8f0929",
   "metadata": {},
   "source": [
    "# Big O Notation"
   ]
  },
  {
   "cell_type": "markdown",
   "id": "f86ceeec",
   "metadata": {},
   "source": [
    "1. A Statistical measure of describing complexity of an algorithm.\n",
    "2. A Metrics for finding the complexity of an algorithm.\n",
    "3. Shows relationship between input to an algorithm and the steps required to execute the algorithm.\n"
   ]
  },
  {
   "cell_type": "markdown",
   "id": "6ad6bf73",
   "metadata": {},
   "source": [
    "### Input Vs Steps by an algorithm"
   ]
  }
 ],
 "metadata": {
  "kernelspec": {
   "display_name": "Python 3",
   "language": "python",
   "name": "python3"
  },
  "language_info": {
   "codemirror_mode": {
    "name": "ipython",
    "version": 3
   },
   "file_extension": ".py",
   "mimetype": "text/x-python",
   "name": "python",
   "nbconvert_exporter": "python",
   "pygments_lexer": "ipython3",
   "version": "3.8.8"
  }
 },
 "nbformat": 4,
 "nbformat_minor": 5
}
