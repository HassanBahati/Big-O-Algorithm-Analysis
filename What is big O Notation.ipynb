{
 "cells": [
  {
   "cell_type": "markdown",
   "id": "18467be1",
   "metadata": {},
   "source": [
    "# Big O Notation"
   ]
  },
  {
   "cell_type": "markdown",
   "id": "80310da6",
   "metadata": {},
   "source": [
    "1. A Statistical measure of describing complexity of an algorithm.\n",
    "2. A Metrics for finding the complexity of an algorithm.\n",
    "3. Shows relationship between input to an algorithm and the steps required to execute the algorithm.\n"
   ]
  },
  {
   "cell_type": "markdown",
   "id": "ae264c96",
   "metadata": {},
   "source": [
    "### Input Vs Steps by an algorithm"
   ]
  },
  {
   "cell_type": "markdown",
   "id": "8de18a79",
   "metadata": {},
   "source": [
    "### big O notation functions\n"
   ]
  },
  {
   "cell_type": "markdown",
   "id": "4566d67e",
   "metadata": {},
   "source": [
    "Constant      - O(c)"
   ]
  },
  {
   "cell_type": "markdown",
   "id": "b303f116",
   "metadata": {},
   "source": [
    "Linear        - O(n)\n"
   ]
  },
  {
   "cell_type": "markdown",
   "id": "f6063533",
   "metadata": {},
   "source": [
    "Quadratic     - O(n^2)"
   ]
  },
  {
   "cell_type": "markdown",
   "id": "7be230b4",
   "metadata": {},
   "source": [
    "Cubic         - O(n^3)"
   ]
  },
  {
   "cell_type": "markdown",
   "id": "d4324998",
   "metadata": {},
   "source": [
    "Exponential   - O(2^n)"
   ]
  },
  {
   "cell_type": "markdown",
   "id": "3a93ddb1",
   "metadata": {},
   "source": [
    "Logarithmic   - O(log(n))"
   ]
  },
  {
   "cell_type": "markdown",
   "id": "0d1a5eb1",
   "metadata": {},
   "source": [
    "Log Linear    - O(nlog(n))"
   ]
  }
 ],
 "metadata": {
  "kernelspec": {
   "display_name": "Python 3",
   "language": "python",
   "name": "python3"
  },
  "language_info": {
   "codemirror_mode": {
    "name": "ipython",
    "version": 3
   },
   "file_extension": ".py",
   "mimetype": "text/x-python",
   "name": "python",
   "nbconvert_exporter": "python",
   "pygments_lexer": "ipython3",
   "version": "3.8.8"
  }
 },
 "nbformat": 4,
 "nbformat_minor": 5
}
