{
 "cells": [
  {
   "cell_type": "markdown",
   "id": "716d656c",
   "metadata": {},
   "source": [
    "# Big O Notation"
   ]
  },
  {
   "cell_type": "markdown",
   "id": "96fec31c",
   "metadata": {},
   "source": [
    "1. A Statistical measure of describing complexity of an algorithm.\n",
    "2. A Metrics for finding the complexity of an algorithm.\n",
    "3. Shows relationship between input to an algorithm and the steps required to execute the algorithm.\n"
   ]
  },
  {
   "cell_type": "markdown",
   "id": "c4c7be7a",
   "metadata": {},
   "source": [
    "### Input Vs Steps by an algorithm"
   ]
  },
  {
   "cell_type": "markdown",
   "id": "26700515",
   "metadata": {},
   "source": [
    "### big O notation functions\n"
   ]
  },
  {
   "cell_type": "markdown",
   "id": "a352d2f3",
   "metadata": {},
   "source": [
    "Constant      - O(c)\n",
    "Linear     - O(n)\n",
    "Quadratic - O(n^2)\n",
    "Cubic - O(n^3)\n",
    "Exponential - O(2^n)\n",
    "Logarithmic - O(log(n))\n",
    "Log Linear - O(nlog(n))"
   ]
  }
 ],
 "metadata": {
  "kernelspec": {
   "display_name": "Python 3",
   "language": "python",
   "name": "python3"
  },
  "language_info": {
   "codemirror_mode": {
    "name": "ipython",
    "version": 3
   },
   "file_extension": ".py",
   "mimetype": "text/x-python",
   "name": "python",
   "nbconvert_exporter": "python",
   "pygments_lexer": "ipython3",
   "version": "3.8.8"
  }
 },
 "nbformat": 4,
 "nbformat_minor": 5
}
