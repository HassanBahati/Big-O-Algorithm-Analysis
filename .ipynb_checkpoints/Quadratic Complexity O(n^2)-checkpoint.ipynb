{
 "cells": [
  {
   "cell_type": "markdown",
   "id": "badf02a7",
   "metadata": {},
   "source": [
    "Steps required to complete execution of an algorithm are a quadratic function of inputs to the algorithm.\n"
   ]
  },
  {
   "cell_type": "markdown",
   "id": "4cac8fe7",
   "metadata": {},
   "source": [
    "#### Example of function with quadratic complexity\n"
   ]
  },
  {
   "cell_type": "code",
   "execution_count": 2,
   "id": "6257b561",
   "metadata": {},
   "outputs": [],
   "source": [
    "def quadratic_algorithm(items):\n",
    "    for item in items:\n",
    "        for item2 in items:\n",
    "            print(item, \" \", item2)"
   ]
  },
  {
   "cell_type": "code",
   "execution_count": 3,
   "id": "7e0d0643",
   "metadata": {
    "scrolled": true
   },
   "outputs": [
    {
     "name": "stdout",
     "output_type": "stream",
     "text": [
      "2   2\n",
      "2   3\n",
      "2   4\n",
      "2   5\n",
      "2   7\n",
      "2   8\n",
      "3   2\n",
      "3   3\n",
      "3   4\n",
      "3   5\n",
      "3   7\n",
      "3   8\n",
      "4   2\n",
      "4   3\n",
      "4   4\n",
      "4   5\n",
      "4   7\n",
      "4   8\n",
      "5   2\n",
      "5   3\n",
      "5   4\n",
      "5   5\n",
      "5   7\n",
      "5   8\n",
      "7   2\n",
      "7   3\n",
      "7   4\n",
      "7   5\n",
      "7   7\n",
      "7   8\n",
      "8   2\n",
      "8   3\n",
      "8   4\n",
      "8   5\n",
      "8   7\n",
      "8   8\n"
     ]
    }
   ],
   "source": [
    "quadratic_algorithm([2,3,4,5,7,8])"
   ]
  },
  {
   "cell_type": "markdown",
   "id": "2776dbbb",
   "metadata": {},
   "source": [
    "#### an outer loop that iterates through all the items in the input list and then a nested inner loop, which again iterates through all the items in the input list. The total number of steps performed is n * n, where n is the number of items in the input array"
   ]
  }
 ],
 "metadata": {
  "kernelspec": {
   "display_name": "Python 3",
   "language": "python",
   "name": "python3"
  },
  "language_info": {
   "codemirror_mode": {
    "name": "ipython",
    "version": 3
   },
   "file_extension": ".py",
   "mimetype": "text/x-python",
   "name": "python",
   "nbconvert_exporter": "python",
   "pygments_lexer": "ipython3",
   "version": "3.8.8"
  }
 },
 "nbformat": 4,
 "nbformat_minor": 5
}
