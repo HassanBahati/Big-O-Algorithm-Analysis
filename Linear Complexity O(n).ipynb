{
 "cells": [
  {
   "cell_type": "markdown",
   "id": "b553d98f",
   "metadata": {},
   "source": [
    "Steps required to complete execution of an algorithm increase or decrease linearly with the number of inputs to the algorithm.\n"
   ]
  },
  {
   "cell_type": "markdown",
   "id": "83b988ef",
   "metadata": {},
   "source": [
    "#### Example for displaying items in a list\n"
   ]
  },
  {
   "cell_type": "code",
   "execution_count": 1,
   "id": "e8e8789b",
   "metadata": {},
   "outputs": [],
   "source": [
    "def linear_algorithm(items):\n",
    "    for item in items:\n",
    "        print(item)"
   ]
  },
  {
   "cell_type": "code",
   "execution_count": 4,
   "id": "73854523",
   "metadata": {
    "scrolled": true
   },
   "outputs": [
    {
     "name": "stdout",
     "output_type": "stream",
     "text": [
      "2\n",
      "3\n",
      "4\n",
      "5\n",
      "7\n",
      "8\n"
     ]
    }
   ],
   "source": [
    "linear_algorithm([2,3,4,5,7,8])"
   ]
  },
  {
   "cell_type": "markdown",
   "id": "18362e24",
   "metadata": {},
   "source": [
    "#### for loop makes iterations equal to the number of items in the list ie if list has 4 items, the for loop executes 4 times"
   ]
  },
  {
   "cell_type": "code",
   "execution_count": 3,
   "id": "a4b4c0ff",
   "metadata": {},
   "outputs": [
    {
     "data": {
      "image/png": "[encoded data removed]",
      "text/plain": [
       "<Figure size 432x288 with 1 Axes>"
      ]
     },
     "metadata": {
      "needs_background": "light"
     },
     "output_type": "display_data"
    }
   ],
   "source": [
    "import matplotlib.pyplot as plt\n",
    "import numpy as np\n",
    "\n",
    "x = [2, 4, 6, 8, 10, 12]\n",
    "\n",
    "y = [2, 4, 6, 8, 10, 12]\n",
    "\n",
    "plt.plot(x, y, 'b')\n",
    "plt.xlabel('Inputs')\n",
    "plt.ylabel('Steps')\n",
    "plt.title('Linear Complexity')\n",
    "plt.show()"
   ]
  },
  {
   "cell_type": "code",
   "execution_count": null,
   "id": "c361b64f",
   "metadata": {},
   "outputs": [],
   "source": []
  }
 ],
 "metadata": {
  "kernelspec": {
   "display_name": "Python 3",
   "language": "python",
   "name": "python3"
  },
  "language_info": {
   "codemirror_mode": {
    "name": "ipython",
    "version": 3
   },
   "file_extension": ".py",
   "mimetype": "text/x-python",
   "name": "python",
   "nbconvert_exporter": "python",
   "pygments_lexer": "ipython3",
   "version": "3.8.8"
  }
 },
 "nbformat": 4,
 "nbformat_minor": 5
}
